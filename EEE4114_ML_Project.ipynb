from collections import Counter

def create_windowed_data(X_df, y_array, window_size=400, stride=200):
    """
    Creates windowed segments of data and corresponding labels.
    
    Args:
        X_df: pd.DataFrame of shape (n_samples, n_features)
        y_array: 1D array-like of labels aligned with rows in X_df
        window_size: number of samples per window
        stride: step size for moving window
    
    Returns:
        X: np.array of shape (n_windows, n_features, window_size)
        Y: np.array of shape (n_windows,)
    """
    X = []
    Y = []
    n_samples = X_df.shape[0]

    # Slide a window over the data
    for start in range(0, n_samples - window_size + 1, stride):
        end = start + window_size

        # Extract data window and transpose to (features, window_size)
        window = X_df.iloc[start:end].T.values
        X.append(window)

        # Get the most frequent label in the current window
        window_labels = y_array[start:end]
        most_common_label = Counter(window_labels).most_common(1)[0][0]
        Y.append(most_common_label)

    # Convert lists to arrays
    X = np.stack(X)
    Y = np.array(Y)

    return X, Y
